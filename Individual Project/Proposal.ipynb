# Proposal
#### Issue of Interest:
With the exponential growth in the use of automobiles, technology and people being crazy about riding motorcycles, crazy top end cars, the roads are being busy almost every time. I would like to know the most kinds of accidents that have happened, and where the Government can invest their time and money to avoid these kinds of fatalities. I believe the dataset that I chose would give me an opportunity to better my visualization techniques and help me find hidden truths from the descriptive statistics that I perform on this. 

#### Importance of the Issue: 
This issue is really important because the measures that we might take at the end of analysis would surely save atleast one life. 

#### Questions I would try to answer:
Which drivers have to be taken care the most and awareness programs for those drivers?
What measures should we take to reduce the number of fatalities?
How the Government should take initiatives to identify potential rash drivers and avoid causing damage to the society. 

#### Datasets available:
The National Center for Statistics and Analysis (NCSA), an office of the National Highway Traffic Safety Administration, is responsible for providing a wide range of analytical and statistical support to NHTSA and the highway safety community at large.
<a>https://www.nhtsa.gov/ </a></end>

Source Dataset chosen:
<a>https://www.kaggle.com/nhtsa/2015-traffic-fatalities</a>

#### Unit of Analysis: 
Individuals and Country

#### Variables and Measures: 
I would like to use the type of accident, root cause of accident, look at the age group and the place of accident. Look into these details and identify accident prone areas and similar behaviours in type of accident to analyse the driver state of mind.

#### Techniques that I would like to use:
I would like to use Summary and Descriptive Statistics, plot data using pie charts, box plots, bar charts, line graphs if required. Improve the visualisation and make it convenient for any kind of user to look at the data. 
