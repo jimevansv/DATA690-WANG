{
 "cells": [
  {
   "cell_type": "markdown",
   "metadata": {
    "colab_type": "text",
    "id": "view-in-github"
   },
   "source": [
    "<a href=\"https://colab.research.google.com/github/wcj365/python-stats-dataviz/blob/master/assignments/Assignment-04.ipynb\" target=\"_parent\"><img src=\"https://colab.research.google.com/assets/colab-badge.svg\" alt=\"Open In Colab\"/></a>"
   ]
  },
  {
   "cell_type": "code",
   "execution_count": 1,
   "metadata": {
    "colab": {},
    "colab_type": "code",
    "id": "h1dBKntgwtH4"
   },
   "outputs": [],
   "source": [
    "# <1> \n",
    "# Import libraries\n",
    "import pandas as pd\n",
    "import matplotlib.pyplot as plt\n",
    "import csv\n",
    "import numpy as np\n",
    "import seaborn as sns\n",
    "import sys"
   ]
  },
  {
   "cell_type": "code",
   "execution_count": 3,
   "metadata": {
    "colab": {},
    "colab_type": "code",
    "id": "qJ9o7d8twtH_"
   },
   "outputs": [
    {
     "name": "stdout",
     "output_type": "stream",
     "text": [
      "<class 'pandas.core.frame.DataFrame'>\n",
      "RangeIndex: 7112 entries, 0 to 7111\n",
      "Data columns (total 9 columns):\n",
      "UNITID           7112 non-null int64\n",
      "OPEID            7112 non-null int64\n",
      "OPEID6           7112 non-null int64\n",
      "INSTNM           7112 non-null object\n",
      "CITY             7112 non-null object\n",
      "ZIP              7112 non-null object\n",
      "ADM_RATE         2037 non-null float64\n",
      "UGDS             6364 non-null float64\n",
      "TUITIONFEE_IN    4021 non-null float64\n",
      "dtypes: float64(3), int64(3), object(3)\n",
      "memory usage: 500.2+ KB\n"
     ]
    }
   ],
   "source": [
    "# <2>\n",
    "# load the 2017-2018 school year file \"MERGED2017_18_PP.csv\" \n",
    "# Don't include all columns - too many and take up computer resources (computeing power and memory)\n",
    "# Only load the following 10 columns should be loaded:\n",
    "# UNITID: \n",
    "# OPEID:              \n",
    "# OPEID6:            \n",
    "# INSTNM:          \n",
    "# CITY:                      \n",
    "# ZIP:               \n",
    "# ADM_RATE:           \n",
    "# UGDS:              \n",
    "# TUITIONFEE_IN:      \n",
    "\n",
    "data=pd.read_csv('HomeWorks/CollegeScorecard_Raw_Data/MERGED2017_18_PP.csv', \n",
    "                 usecols = ['UNITID','OPEID','OPEID6','INSTNM','CITY','ZIP',\n",
    "                            'ADM_RATE','UGDS','TUITIONFEE_IN'])\n",
    "data.info()"
   ]
  },
  {
   "cell_type": "code",
   "execution_count": 8,
   "metadata": {},
   "outputs": [
    {
     "data": {
      "text/html": [
       "<div>\n",
       "<style scoped>\n",
       "    .dataframe tbody tr th:only-of-type {\n",
       "        vertical-align: middle;\n",
       "    }\n",
       "\n",
       "    .dataframe tbody tr th {\n",
       "        vertical-align: top;\n",
       "    }\n",
       "\n",
       "    .dataframe thead th {\n",
       "        text-align: right;\n",
       "    }\n",
       "</style>\n",
       "<table border=\"1\" class=\"dataframe\">\n",
       "  <thead>\n",
       "    <tr style=\"text-align: right;\">\n",
       "      <th></th>\n",
       "      <th>UNITID</th>\n",
       "      <th>OPEID</th>\n",
       "      <th>OPEID6</th>\n",
       "      <th>INSTNM</th>\n",
       "      <th>CITY</th>\n",
       "      <th>ZIP</th>\n",
       "      <th>ADM_RATE</th>\n",
       "      <th>UGDS</th>\n",
       "      <th>TUITIONFEE_IN</th>\n",
       "    </tr>\n",
       "  </thead>\n",
       "  <tbody>\n",
       "    <tr>\n",
       "      <th>0</th>\n",
       "      <td>100654</td>\n",
       "      <td>100200</td>\n",
       "      <td>1002</td>\n",
       "      <td>Alabama A &amp; M University</td>\n",
       "      <td>Normal</td>\n",
       "      <td>35762</td>\n",
       "      <td>0.9027</td>\n",
       "      <td>4824.0</td>\n",
       "      <td>9857.0</td>\n",
       "    </tr>\n",
       "    <tr>\n",
       "      <th>1</th>\n",
       "      <td>100663</td>\n",
       "      <td>105200</td>\n",
       "      <td>1052</td>\n",
       "      <td>University of Alabama at Birmingham</td>\n",
       "      <td>Birmingham</td>\n",
       "      <td>35294-0110</td>\n",
       "      <td>0.9181</td>\n",
       "      <td>12866.0</td>\n",
       "      <td>8328.0</td>\n",
       "    </tr>\n",
       "    <tr>\n",
       "      <th>2</th>\n",
       "      <td>100690</td>\n",
       "      <td>2503400</td>\n",
       "      <td>25034</td>\n",
       "      <td>Amridge University</td>\n",
       "      <td>Montgomery</td>\n",
       "      <td>36117-3553</td>\n",
       "      <td>NaN</td>\n",
       "      <td>322.0</td>\n",
       "      <td>6900.0</td>\n",
       "    </tr>\n",
       "    <tr>\n",
       "      <th>3</th>\n",
       "      <td>100706</td>\n",
       "      <td>105500</td>\n",
       "      <td>1055</td>\n",
       "      <td>University of Alabama in Huntsville</td>\n",
       "      <td>Huntsville</td>\n",
       "      <td>35899</td>\n",
       "      <td>0.8123</td>\n",
       "      <td>6917.0</td>\n",
       "      <td>10280.0</td>\n",
       "    </tr>\n",
       "    <tr>\n",
       "      <th>4</th>\n",
       "      <td>100724</td>\n",
       "      <td>100500</td>\n",
       "      <td>1005</td>\n",
       "      <td>Alabama State University</td>\n",
       "      <td>Montgomery</td>\n",
       "      <td>36104-0271</td>\n",
       "      <td>0.9787</td>\n",
       "      <td>4189.0</td>\n",
       "      <td>11068.0</td>\n",
       "    </tr>\n",
       "  </tbody>\n",
       "</table>\n",
       "</div>"
      ],
      "text/plain": [
       "   UNITID    OPEID  OPEID6                               INSTNM        CITY  \\\n",
       "0  100654   100200    1002             Alabama A & M University      Normal   \n",
       "1  100663   105200    1052  University of Alabama at Birmingham  Birmingham   \n",
       "2  100690  2503400   25034                   Amridge University  Montgomery   \n",
       "3  100706   105500    1055  University of Alabama in Huntsville  Huntsville   \n",
       "4  100724   100500    1005             Alabama State University  Montgomery   \n",
       "\n",
       "          ZIP  ADM_RATE     UGDS  TUITIONFEE_IN  \n",
       "0       35762    0.9027   4824.0         9857.0  \n",
       "1  35294-0110    0.9181  12866.0         8328.0  \n",
       "2  36117-3553       NaN    322.0         6900.0  \n",
       "3       35899    0.8123   6917.0        10280.0  \n",
       "4  36104-0271    0.9787   4189.0        11068.0  "
      ]
     },
     "execution_count": 8,
     "metadata": {},
     "output_type": "execute_result"
    }
   ],
   "source": [
    "data.head(5)"
   ]
  },
  {
   "cell_type": "code",
   "execution_count": 9,
   "metadata": {},
   "outputs": [
    {
     "data": {
      "text/html": [
       "<div>\n",
       "<style scoped>\n",
       "    .dataframe tbody tr th:only-of-type {\n",
       "        vertical-align: middle;\n",
       "    }\n",
       "\n",
       "    .dataframe tbody tr th {\n",
       "        vertical-align: top;\n",
       "    }\n",
       "\n",
       "    .dataframe thead th {\n",
       "        text-align: right;\n",
       "    }\n",
       "</style>\n",
       "<table border=\"1\" class=\"dataframe\">\n",
       "  <thead>\n",
       "    <tr style=\"text-align: right;\">\n",
       "      <th></th>\n",
       "      <th>UNITID</th>\n",
       "      <th>OPEID</th>\n",
       "      <th>OPEID6</th>\n",
       "      <th>INSTNM</th>\n",
       "      <th>CITY</th>\n",
       "      <th>ZIP</th>\n",
       "      <th>ADM_RATE</th>\n",
       "      <th>UGDS</th>\n",
       "      <th>TUITIONFEE_IN</th>\n",
       "    </tr>\n",
       "  </thead>\n",
       "  <tbody>\n",
       "    <tr>\n",
       "      <th>7107</th>\n",
       "      <td>48312404</td>\n",
       "      <td>108163</td>\n",
       "      <td>1081</td>\n",
       "      <td>Arizona State University at Yuma</td>\n",
       "      <td>Yuma</td>\n",
       "      <td>853656900</td>\n",
       "      <td>NaN</td>\n",
       "      <td>NaN</td>\n",
       "      <td>NaN</td>\n",
       "    </tr>\n",
       "    <tr>\n",
       "      <th>7108</th>\n",
       "      <td>48387801</td>\n",
       "      <td>4223701</td>\n",
       "      <td>42237</td>\n",
       "      <td>Bay Area Medical Academy - San Jose Satellite ...</td>\n",
       "      <td>San Jose</td>\n",
       "      <td>95113</td>\n",
       "      <td>NaN</td>\n",
       "      <td>NaN</td>\n",
       "      <td>NaN</td>\n",
       "    </tr>\n",
       "    <tr>\n",
       "      <th>7109</th>\n",
       "      <td>48400201</td>\n",
       "      <td>4228101</td>\n",
       "      <td>42281</td>\n",
       "      <td>High Desert Medical College</td>\n",
       "      <td>Lancaster</td>\n",
       "      <td>935340000</td>\n",
       "      <td>NaN</td>\n",
       "      <td>NaN</td>\n",
       "      <td>NaN</td>\n",
       "    </tr>\n",
       "    <tr>\n",
       "      <th>7110</th>\n",
       "      <td>48778201</td>\n",
       "      <td>4221501</td>\n",
       "      <td>42215</td>\n",
       "      <td>BCI - Malden</td>\n",
       "      <td>Malden</td>\n",
       "      <td>021480000</td>\n",
       "      <td>NaN</td>\n",
       "      <td>NaN</td>\n",
       "      <td>NaN</td>\n",
       "    </tr>\n",
       "    <tr>\n",
       "      <th>7111</th>\n",
       "      <td>49005401</td>\n",
       "      <td>4182601</td>\n",
       "      <td>41826</td>\n",
       "      <td>Health Career Institute- Lauderdale Lakes</td>\n",
       "      <td>Lauderdale Lakes</td>\n",
       "      <td>333137268</td>\n",
       "      <td>NaN</td>\n",
       "      <td>NaN</td>\n",
       "      <td>22575.0</td>\n",
       "    </tr>\n",
       "  </tbody>\n",
       "</table>\n",
       "</div>"
      ],
      "text/plain": [
       "        UNITID    OPEID  OPEID6  \\\n",
       "7107  48312404   108163    1081   \n",
       "7108  48387801  4223701   42237   \n",
       "7109  48400201  4228101   42281   \n",
       "7110  48778201  4221501   42215   \n",
       "7111  49005401  4182601   41826   \n",
       "\n",
       "                                                 INSTNM              CITY  \\\n",
       "7107                   Arizona State University at Yuma              Yuma   \n",
       "7108  Bay Area Medical Academy - San Jose Satellite ...          San Jose   \n",
       "7109                        High Desert Medical College         Lancaster   \n",
       "7110                                       BCI - Malden            Malden   \n",
       "7111          Health Career Institute- Lauderdale Lakes  Lauderdale Lakes   \n",
       "\n",
       "            ZIP  ADM_RATE  UGDS  TUITIONFEE_IN  \n",
       "7107  853656900       NaN   NaN            NaN  \n",
       "7108      95113       NaN   NaN            NaN  \n",
       "7109  935340000       NaN   NaN            NaN  \n",
       "7110  021480000       NaN   NaN            NaN  \n",
       "7111  333137268       NaN   NaN        22575.0  "
      ]
     },
     "execution_count": 9,
     "metadata": {},
     "output_type": "execute_result"
    }
   ],
   "source": [
    "data.tail(5)"
   ]
  },
  {
   "cell_type": "code",
   "execution_count": 12,
   "metadata": {},
   "outputs": [
    {
     "data": {
      "text/plain": [
       "7112"
      ]
     },
     "execution_count": 12,
     "metadata": {},
     "output_type": "execute_result"
    }
   ],
   "source": [
    "len(data['UNITID'].unique())"
   ]
  },
  {
   "cell_type": "code",
   "execution_count": 4,
   "metadata": {
    "colab": {},
    "colab_type": "code",
    "id": "fOIPL0FzwtIC"
   },
   "outputs": [
    {
     "name": "stdout",
     "output_type": "stream",
     "text": [
      "<class 'pandas.core.frame.DataFrame'>\n",
      "RangeIndex: 7112 entries, 0 to 7111\n",
      "Data columns (total 2 columns):\n",
      "UNITID             7112 non-null int64\n",
      "MD_EARN_WNE_P10    5887 non-null object\n",
      "dtypes: int64(1), object(1)\n",
      "memory usage: 111.2+ KB\n"
     ]
    }
   ],
   "source": [
    "# <3>\n",
    "# Load the scorecard file Most-Recent-Cohorts-Scorecard-Elements.csv from the link:\n",
    "# https://ed-public-download.app.cloud.gov/downloads/Most-Recent-Cohorts-Scorecard-Elements.csv\n",
    "# This file has thre median earnings which is not present in the previous file\n",
    "# Only load the two columns:\n",
    "# UNITID - This column is the unique identity for each college and will be used to join with the previous file\n",
    "# MD_EARN_WNE_P10  - This column has the median earnings\n",
    "data2 = pd.read_csv(\"HomeWorks/Most-Recent-Cohorts-Scorecard-Elements.csv\", \n",
    "                    usecols = [\"UNITID\",\"MD_EARN_WNE_P10\"])\n",
    "data2.info()"
   ]
  },
  {
   "cell_type": "code",
   "execution_count": 5,
   "metadata": {
    "colab": {},
    "colab_type": "code",
    "id": "Z2r8AaE1wtIE"
   },
   "outputs": [
    {
     "data": {
      "text/html": [
       "<div>\n",
       "<style scoped>\n",
       "    .dataframe tbody tr th:only-of-type {\n",
       "        vertical-align: middle;\n",
       "    }\n",
       "\n",
       "    .dataframe tbody tr th {\n",
       "        vertical-align: top;\n",
       "    }\n",
       "\n",
       "    .dataframe thead th {\n",
       "        text-align: right;\n",
       "    }\n",
       "</style>\n",
       "<table border=\"1\" class=\"dataframe\">\n",
       "  <thead>\n",
       "    <tr style=\"text-align: right;\">\n",
       "      <th></th>\n",
       "      <th>UNITID</th>\n",
       "      <th>MD_EARN_WNE_P10</th>\n",
       "    </tr>\n",
       "  </thead>\n",
       "  <tbody>\n",
       "    <tr>\n",
       "      <th>0</th>\n",
       "      <td>100654</td>\n",
       "      <td>31000</td>\n",
       "    </tr>\n",
       "    <tr>\n",
       "      <th>1</th>\n",
       "      <td>100663</td>\n",
       "      <td>41200</td>\n",
       "    </tr>\n",
       "    <tr>\n",
       "      <th>2</th>\n",
       "      <td>100690</td>\n",
       "      <td>39600</td>\n",
       "    </tr>\n",
       "    <tr>\n",
       "      <th>3</th>\n",
       "      <td>100706</td>\n",
       "      <td>46700</td>\n",
       "    </tr>\n",
       "    <tr>\n",
       "      <th>4</th>\n",
       "      <td>100724</td>\n",
       "      <td>27700</td>\n",
       "    </tr>\n",
       "  </tbody>\n",
       "</table>\n",
       "</div>"
      ],
      "text/plain": [
       "   UNITID MD_EARN_WNE_P10\n",
       "0  100654           31000\n",
       "1  100663           41200\n",
       "2  100690           39600\n",
       "3  100706           46700\n",
       "4  100724           27700"
      ]
     },
     "execution_count": 5,
     "metadata": {},
     "output_type": "execute_result"
    }
   ],
   "source": [
    "# <4> \n",
    "# Explore this file - number of colleges, head/tail/sample etc.\n",
    "# Notice this file has different number of colleges from the previous file\n",
    "# This indicate they are not identical and they overlap (they don't contain the same set of colleges)\n",
    "data2.head(5)"
   ]
  },
  {
   "cell_type": "code",
   "execution_count": 7,
   "metadata": {},
   "outputs": [
    {
     "data": {
      "text/html": [
       "<div>\n",
       "<style scoped>\n",
       "    .dataframe tbody tr th:only-of-type {\n",
       "        vertical-align: middle;\n",
       "    }\n",
       "\n",
       "    .dataframe tbody tr th {\n",
       "        vertical-align: top;\n",
       "    }\n",
       "\n",
       "    .dataframe thead th {\n",
       "        text-align: right;\n",
       "    }\n",
       "</style>\n",
       "<table border=\"1\" class=\"dataframe\">\n",
       "  <thead>\n",
       "    <tr style=\"text-align: right;\">\n",
       "      <th></th>\n",
       "      <th>UNITID</th>\n",
       "      <th>MD_EARN_WNE_P10</th>\n",
       "    </tr>\n",
       "  </thead>\n",
       "  <tbody>\n",
       "    <tr>\n",
       "      <th>7107</th>\n",
       "      <td>48312404</td>\n",
       "      <td>NaN</td>\n",
       "    </tr>\n",
       "    <tr>\n",
       "      <th>7108</th>\n",
       "      <td>48387801</td>\n",
       "      <td>NaN</td>\n",
       "    </tr>\n",
       "    <tr>\n",
       "      <th>7109</th>\n",
       "      <td>48400201</td>\n",
       "      <td>NaN</td>\n",
       "    </tr>\n",
       "    <tr>\n",
       "      <th>7110</th>\n",
       "      <td>48778201</td>\n",
       "      <td>NaN</td>\n",
       "    </tr>\n",
       "    <tr>\n",
       "      <th>7111</th>\n",
       "      <td>49005401</td>\n",
       "      <td>NaN</td>\n",
       "    </tr>\n",
       "  </tbody>\n",
       "</table>\n",
       "</div>"
      ],
      "text/plain": [
       "        UNITID MD_EARN_WNE_P10\n",
       "7107  48312404             NaN\n",
       "7108  48387801             NaN\n",
       "7109  48400201             NaN\n",
       "7110  48778201             NaN\n",
       "7111  49005401             NaN"
      ]
     },
     "execution_count": 7,
     "metadata": {},
     "output_type": "execute_result"
    }
   ],
   "source": [
    "data2.tail(5)"
   ]
  },
  {
   "cell_type": "markdown",
   "metadata": {},
   "source": [
    "Unfortunately observing the head and tail of the new file I could not differentiate on the number of colleges in both the files"
   ]
  },
  {
   "cell_type": "code",
   "execution_count": 11,
   "metadata": {},
   "outputs": [
    {
     "data": {
      "text/plain": [
       "7112"
      ]
     },
     "execution_count": 11,
     "metadata": {},
     "output_type": "execute_result"
    }
   ],
   "source": [
    "len(data2['UNITID'].unique())"
   ]
  },
  {
   "cell_type": "code",
   "execution_count": 37,
   "metadata": {
    "colab": {},
    "colab_type": "code",
    "id": "aH8NCrmVwtII"
   },
   "outputs": [
    {
     "name": "stdout",
     "output_type": "stream",
     "text": [
      "<class 'pandas.core.frame.DataFrame'>\n",
      "Int64Index: 7112 entries, 0 to 7111\n",
      "Data columns (total 10 columns):\n",
      "UNITID             7112 non-null int64\n",
      "OPEID              7112 non-null int64\n",
      "OPEID6             7112 non-null int64\n",
      "INSTNM             7112 non-null object\n",
      "CITY               7112 non-null object\n",
      "ZIP                7112 non-null object\n",
      "ADM_RATE           2037 non-null float64\n",
      "UGDS               6364 non-null float64\n",
      "TUITIONFEE_IN      4021 non-null float64\n",
      "MD_EARN_WNE_P10    5887 non-null object\n",
      "dtypes: float64(3), int64(3), object(4)\n",
      "memory usage: 611.2+ KB\n"
     ]
    }
   ],
   "source": [
    "# <5>\n",
    "#Join the two files together to produce a third file which contain all the columns and all colleges that are common to both files\n",
    "new_data = pd.merge(data, data2, how=\"inner\", on=\"UNITID\")\n",
    "new_data.info()"
   ]
  },
  {
   "cell_type": "code",
   "execution_count": 38,
   "metadata": {
    "colab": {},
    "colab_type": "code",
    "id": "bPiKBlyEwtIM"
   },
   "outputs": [
    {
     "data": {
      "text/plain": [
       "7112"
      ]
     },
     "execution_count": 38,
     "metadata": {},
     "output_type": "execute_result"
    }
   ],
   "source": [
    "# <6>\n",
    "# Explore the new file - number of colleges, head/tail/sample etc.\n",
    "len(new_data['UNITID'].unique())"
   ]
  },
  {
   "cell_type": "code",
   "execution_count": 39,
   "metadata": {},
   "outputs": [
    {
     "data": {
      "text/html": [
       "<div>\n",
       "<style scoped>\n",
       "    .dataframe tbody tr th:only-of-type {\n",
       "        vertical-align: middle;\n",
       "    }\n",
       "\n",
       "    .dataframe tbody tr th {\n",
       "        vertical-align: top;\n",
       "    }\n",
       "\n",
       "    .dataframe thead th {\n",
       "        text-align: right;\n",
       "    }\n",
       "</style>\n",
       "<table border=\"1\" class=\"dataframe\">\n",
       "  <thead>\n",
       "    <tr style=\"text-align: right;\">\n",
       "      <th></th>\n",
       "      <th>UNITID</th>\n",
       "      <th>OPEID</th>\n",
       "      <th>OPEID6</th>\n",
       "      <th>INSTNM</th>\n",
       "      <th>CITY</th>\n",
       "      <th>ZIP</th>\n",
       "      <th>ADM_RATE</th>\n",
       "      <th>UGDS</th>\n",
       "      <th>TUITIONFEE_IN</th>\n",
       "      <th>MD_EARN_WNE_P10</th>\n",
       "    </tr>\n",
       "  </thead>\n",
       "  <tbody>\n",
       "    <tr>\n",
       "      <th>0</th>\n",
       "      <td>100654</td>\n",
       "      <td>100200</td>\n",
       "      <td>1002</td>\n",
       "      <td>Alabama A &amp; M University</td>\n",
       "      <td>Normal</td>\n",
       "      <td>35762</td>\n",
       "      <td>0.9027</td>\n",
       "      <td>4824.0</td>\n",
       "      <td>9857.0</td>\n",
       "      <td>31000</td>\n",
       "    </tr>\n",
       "    <tr>\n",
       "      <th>1</th>\n",
       "      <td>100663</td>\n",
       "      <td>105200</td>\n",
       "      <td>1052</td>\n",
       "      <td>University of Alabama at Birmingham</td>\n",
       "      <td>Birmingham</td>\n",
       "      <td>35294-0110</td>\n",
       "      <td>0.9181</td>\n",
       "      <td>12866.0</td>\n",
       "      <td>8328.0</td>\n",
       "      <td>41200</td>\n",
       "    </tr>\n",
       "    <tr>\n",
       "      <th>2</th>\n",
       "      <td>100690</td>\n",
       "      <td>2503400</td>\n",
       "      <td>25034</td>\n",
       "      <td>Amridge University</td>\n",
       "      <td>Montgomery</td>\n",
       "      <td>36117-3553</td>\n",
       "      <td>NaN</td>\n",
       "      <td>322.0</td>\n",
       "      <td>6900.0</td>\n",
       "      <td>39600</td>\n",
       "    </tr>\n",
       "    <tr>\n",
       "      <th>3</th>\n",
       "      <td>100706</td>\n",
       "      <td>105500</td>\n",
       "      <td>1055</td>\n",
       "      <td>University of Alabama in Huntsville</td>\n",
       "      <td>Huntsville</td>\n",
       "      <td>35899</td>\n",
       "      <td>0.8123</td>\n",
       "      <td>6917.0</td>\n",
       "      <td>10280.0</td>\n",
       "      <td>46700</td>\n",
       "    </tr>\n",
       "    <tr>\n",
       "      <th>4</th>\n",
       "      <td>100724</td>\n",
       "      <td>100500</td>\n",
       "      <td>1005</td>\n",
       "      <td>Alabama State University</td>\n",
       "      <td>Montgomery</td>\n",
       "      <td>36104-0271</td>\n",
       "      <td>0.9787</td>\n",
       "      <td>4189.0</td>\n",
       "      <td>11068.0</td>\n",
       "      <td>27700</td>\n",
       "    </tr>\n",
       "  </tbody>\n",
       "</table>\n",
       "</div>"
      ],
      "text/plain": [
       "   UNITID    OPEID  OPEID6                               INSTNM        CITY  \\\n",
       "0  100654   100200    1002             Alabama A & M University      Normal   \n",
       "1  100663   105200    1052  University of Alabama at Birmingham  Birmingham   \n",
       "2  100690  2503400   25034                   Amridge University  Montgomery   \n",
       "3  100706   105500    1055  University of Alabama in Huntsville  Huntsville   \n",
       "4  100724   100500    1005             Alabama State University  Montgomery   \n",
       "\n",
       "          ZIP  ADM_RATE     UGDS  TUITIONFEE_IN MD_EARN_WNE_P10  \n",
       "0       35762    0.9027   4824.0         9857.0           31000  \n",
       "1  35294-0110    0.9181  12866.0         8328.0           41200  \n",
       "2  36117-3553       NaN    322.0         6900.0           39600  \n",
       "3       35899    0.8123   6917.0        10280.0           46700  \n",
       "4  36104-0271    0.9787   4189.0        11068.0           27700  "
      ]
     },
     "execution_count": 39,
     "metadata": {},
     "output_type": "execute_result"
    }
   ],
   "source": [
    "new_data.head(5)"
   ]
  },
  {
   "cell_type": "code",
   "execution_count": 40,
   "metadata": {},
   "outputs": [
    {
     "data": {
      "text/html": [
       "<div>\n",
       "<style scoped>\n",
       "    .dataframe tbody tr th:only-of-type {\n",
       "        vertical-align: middle;\n",
       "    }\n",
       "\n",
       "    .dataframe tbody tr th {\n",
       "        vertical-align: top;\n",
       "    }\n",
       "\n",
       "    .dataframe thead th {\n",
       "        text-align: right;\n",
       "    }\n",
       "</style>\n",
       "<table border=\"1\" class=\"dataframe\">\n",
       "  <thead>\n",
       "    <tr style=\"text-align: right;\">\n",
       "      <th></th>\n",
       "      <th>UNITID</th>\n",
       "      <th>OPEID</th>\n",
       "      <th>OPEID6</th>\n",
       "      <th>INSTNM</th>\n",
       "      <th>CITY</th>\n",
       "      <th>ZIP</th>\n",
       "      <th>ADM_RATE</th>\n",
       "      <th>UGDS</th>\n",
       "      <th>TUITIONFEE_IN</th>\n",
       "      <th>MD_EARN_WNE_P10</th>\n",
       "    </tr>\n",
       "  </thead>\n",
       "  <tbody>\n",
       "    <tr>\n",
       "      <th>7107</th>\n",
       "      <td>48312404</td>\n",
       "      <td>108163</td>\n",
       "      <td>1081</td>\n",
       "      <td>Arizona State University at Yuma</td>\n",
       "      <td>Yuma</td>\n",
       "      <td>853656900</td>\n",
       "      <td>NaN</td>\n",
       "      <td>NaN</td>\n",
       "      <td>NaN</td>\n",
       "      <td>NaN</td>\n",
       "    </tr>\n",
       "    <tr>\n",
       "      <th>7108</th>\n",
       "      <td>48387801</td>\n",
       "      <td>4223701</td>\n",
       "      <td>42237</td>\n",
       "      <td>Bay Area Medical Academy - San Jose Satellite ...</td>\n",
       "      <td>San Jose</td>\n",
       "      <td>95113</td>\n",
       "      <td>NaN</td>\n",
       "      <td>NaN</td>\n",
       "      <td>NaN</td>\n",
       "      <td>NaN</td>\n",
       "    </tr>\n",
       "    <tr>\n",
       "      <th>7109</th>\n",
       "      <td>48400201</td>\n",
       "      <td>4228101</td>\n",
       "      <td>42281</td>\n",
       "      <td>High Desert Medical College</td>\n",
       "      <td>Lancaster</td>\n",
       "      <td>935340000</td>\n",
       "      <td>NaN</td>\n",
       "      <td>NaN</td>\n",
       "      <td>NaN</td>\n",
       "      <td>NaN</td>\n",
       "    </tr>\n",
       "    <tr>\n",
       "      <th>7110</th>\n",
       "      <td>48778201</td>\n",
       "      <td>4221501</td>\n",
       "      <td>42215</td>\n",
       "      <td>BCI - Malden</td>\n",
       "      <td>Malden</td>\n",
       "      <td>021480000</td>\n",
       "      <td>NaN</td>\n",
       "      <td>NaN</td>\n",
       "      <td>NaN</td>\n",
       "      <td>NaN</td>\n",
       "    </tr>\n",
       "    <tr>\n",
       "      <th>7111</th>\n",
       "      <td>49005401</td>\n",
       "      <td>4182601</td>\n",
       "      <td>41826</td>\n",
       "      <td>Health Career Institute- Lauderdale Lakes</td>\n",
       "      <td>Lauderdale Lakes</td>\n",
       "      <td>333137268</td>\n",
       "      <td>NaN</td>\n",
       "      <td>NaN</td>\n",
       "      <td>22575.0</td>\n",
       "      <td>NaN</td>\n",
       "    </tr>\n",
       "  </tbody>\n",
       "</table>\n",
       "</div>"
      ],
      "text/plain": [
       "        UNITID    OPEID  OPEID6  \\\n",
       "7107  48312404   108163    1081   \n",
       "7108  48387801  4223701   42237   \n",
       "7109  48400201  4228101   42281   \n",
       "7110  48778201  4221501   42215   \n",
       "7111  49005401  4182601   41826   \n",
       "\n",
       "                                                 INSTNM              CITY  \\\n",
       "7107                   Arizona State University at Yuma              Yuma   \n",
       "7108  Bay Area Medical Academy - San Jose Satellite ...          San Jose   \n",
       "7109                        High Desert Medical College         Lancaster   \n",
       "7110                                       BCI - Malden            Malden   \n",
       "7111          Health Career Institute- Lauderdale Lakes  Lauderdale Lakes   \n",
       "\n",
       "            ZIP  ADM_RATE  UGDS  TUITIONFEE_IN MD_EARN_WNE_P10  \n",
       "7107  853656900       NaN   NaN            NaN             NaN  \n",
       "7108      95113       NaN   NaN            NaN             NaN  \n",
       "7109  935340000       NaN   NaN            NaN             NaN  \n",
       "7110  021480000       NaN   NaN            NaN             NaN  \n",
       "7111  333137268       NaN   NaN        22575.0             NaN  "
      ]
     },
     "execution_count": 40,
     "metadata": {},
     "output_type": "execute_result"
    }
   ],
   "source": [
    "new_data.tail(5)"
   ]
  },
  {
   "cell_type": "code",
   "execution_count": 41,
   "metadata": {
    "colab": {},
    "colab_type": "code",
    "id": "kHZinqMNwtIQ"
   },
   "outputs": [
    {
     "name": "stderr",
     "output_type": "stream",
     "text": [
      "C:\\Anaconda3\\lib\\site-packages\\ipykernel_launcher.py:5: UserWarning: Boolean Series key will be reindexed to match DataFrame index.\n",
      "  \"\"\"\n"
     ]
    },
    {
     "data": {
      "text/html": [
       "<div>\n",
       "<style scoped>\n",
       "    .dataframe tbody tr th:only-of-type {\n",
       "        vertical-align: middle;\n",
       "    }\n",
       "\n",
       "    .dataframe tbody tr th {\n",
       "        vertical-align: top;\n",
       "    }\n",
       "\n",
       "    .dataframe thead th {\n",
       "        text-align: right;\n",
       "    }\n",
       "</style>\n",
       "<table border=\"1\" class=\"dataframe\">\n",
       "  <thead>\n",
       "    <tr style=\"text-align: right;\">\n",
       "      <th></th>\n",
       "      <th>UNITID</th>\n",
       "      <th>OPEID</th>\n",
       "      <th>OPEID6</th>\n",
       "      <th>INSTNM</th>\n",
       "      <th>CITY</th>\n",
       "      <th>ZIP</th>\n",
       "      <th>ADM_RATE</th>\n",
       "      <th>UGDS</th>\n",
       "      <th>TUITIONFEE_IN</th>\n",
       "      <th>MD_EARN_WNE_P10</th>\n",
       "    </tr>\n",
       "  </thead>\n",
       "  <tbody>\n",
       "    <tr>\n",
       "      <th>2978</th>\n",
       "      <td>211893</td>\n",
       "      <td>325100</td>\n",
       "      <td>3251</td>\n",
       "      <td>Curtis Institute of Music</td>\n",
       "      <td>Philadelphia</td>\n",
       "      <td>19103</td>\n",
       "      <td>0.0330</td>\n",
       "      <td>131.0</td>\n",
       "      <td>2675.0</td>\n",
       "      <td>PrivacySuppressed</td>\n",
       "    </tr>\n",
       "    <tr>\n",
       "      <th>3979</th>\n",
       "      <td>243744</td>\n",
       "      <td>130500</td>\n",
       "      <td>1305</td>\n",
       "      <td>Stanford University</td>\n",
       "      <td>Stanford</td>\n",
       "      <td>94305</td>\n",
       "      <td>0.0473</td>\n",
       "      <td>7056.0</td>\n",
       "      <td>49617.0</td>\n",
       "      <td>94000</td>\n",
       "    </tr>\n",
       "    <tr>\n",
       "      <th>1557</th>\n",
       "      <td>166027</td>\n",
       "      <td>215500</td>\n",
       "      <td>2155</td>\n",
       "      <td>Harvard University</td>\n",
       "      <td>Cambridge</td>\n",
       "      <td>02138</td>\n",
       "      <td>0.0516</td>\n",
       "      <td>7532.0</td>\n",
       "      <td>48949.0</td>\n",
       "      <td>89700</td>\n",
       "    </tr>\n",
       "    <tr>\n",
       "      <th>2302</th>\n",
       "      <td>192110</td>\n",
       "      <td>274200</td>\n",
       "      <td>2742</td>\n",
       "      <td>The Juilliard School</td>\n",
       "      <td>New York</td>\n",
       "      <td>10023-6588</td>\n",
       "      <td>0.0592</td>\n",
       "      <td>486.0</td>\n",
       "      <td>43170.0</td>\n",
       "      <td>32800</td>\n",
       "    </tr>\n",
       "    <tr>\n",
       "      <th>2123</th>\n",
       "      <td>186131</td>\n",
       "      <td>262700</td>\n",
       "      <td>2627</td>\n",
       "      <td>Princeton University</td>\n",
       "      <td>Princeton</td>\n",
       "      <td>08544-0070</td>\n",
       "      <td>0.0641</td>\n",
       "      <td>5246.0</td>\n",
       "      <td>47140.0</td>\n",
       "      <td>74700</td>\n",
       "    </tr>\n",
       "    <tr>\n",
       "      <th>...</th>\n",
       "      <td>...</td>\n",
       "      <td>...</td>\n",
       "      <td>...</td>\n",
       "      <td>...</td>\n",
       "      <td>...</td>\n",
       "      <td>...</td>\n",
       "      <td>...</td>\n",
       "      <td>...</td>\n",
       "      <td>...</td>\n",
       "      <td>...</td>\n",
       "    </tr>\n",
       "    <tr>\n",
       "      <th>1211</th>\n",
       "      <td>154262</td>\n",
       "      <td>729100</td>\n",
       "      <td>7291</td>\n",
       "      <td>St Luke's College</td>\n",
       "      <td>Sioux City</td>\n",
       "      <td>51104-0263</td>\n",
       "      <td>0.2667</td>\n",
       "      <td>274.0</td>\n",
       "      <td>20440.0</td>\n",
       "      <td>44400</td>\n",
       "    </tr>\n",
       "    <tr>\n",
       "      <th>3128</th>\n",
       "      <td>215594</td>\n",
       "      <td>656500</td>\n",
       "      <td>6565</td>\n",
       "      <td>Reading Hospital School of Health Sciences</td>\n",
       "      <td>Reading</td>\n",
       "      <td>19611</td>\n",
       "      <td>0.2679</td>\n",
       "      <td>288.0</td>\n",
       "      <td>10095.0</td>\n",
       "      <td>63800</td>\n",
       "    </tr>\n",
       "    <tr>\n",
       "      <th>691</th>\n",
       "      <td>133979</td>\n",
       "      <td>148600</td>\n",
       "      <td>1486</td>\n",
       "      <td>Florida Memorial University</td>\n",
       "      <td>Miami Gardens</td>\n",
       "      <td>33054-6199</td>\n",
       "      <td>0.2733</td>\n",
       "      <td>1173.0</td>\n",
       "      <td>15536.0</td>\n",
       "      <td>27600</td>\n",
       "    </tr>\n",
       "    <tr>\n",
       "      <th>3707</th>\n",
       "      <td>234076</td>\n",
       "      <td>374500</td>\n",
       "      <td>3745</td>\n",
       "      <td>University of Virginia-Main Campus</td>\n",
       "      <td>Charlottesville</td>\n",
       "      <td>22903-2628</td>\n",
       "      <td>0.2735</td>\n",
       "      <td>16207.0</td>\n",
       "      <td>16853.0</td>\n",
       "      <td>61200</td>\n",
       "    </tr>\n",
       "    <tr>\n",
       "      <th>1598</th>\n",
       "      <td>167358</td>\n",
       "      <td>219900</td>\n",
       "      <td>2199</td>\n",
       "      <td>Northeastern University</td>\n",
       "      <td>Boston</td>\n",
       "      <td>02115-5005</td>\n",
       "      <td>0.2744</td>\n",
       "      <td>13666.0</td>\n",
       "      <td>49497.0</td>\n",
       "      <td>67400</td>\n",
       "    </tr>\n",
       "  </tbody>\n",
       "</table>\n",
       "<p>80 rows × 10 columns</p>\n",
       "</div>"
      ],
      "text/plain": [
       "      UNITID   OPEID  OPEID6                                      INSTNM  \\\n",
       "2978  211893  325100    3251                   Curtis Institute of Music   \n",
       "3979  243744  130500    1305                         Stanford University   \n",
       "1557  166027  215500    2155                          Harvard University   \n",
       "2302  192110  274200    2742                        The Juilliard School   \n",
       "2123  186131  262700    2627                        Princeton University   \n",
       "...      ...     ...     ...                                         ...   \n",
       "1211  154262  729100    7291                           St Luke's College   \n",
       "3128  215594  656500    6565  Reading Hospital School of Health Sciences   \n",
       "691   133979  148600    1486                 Florida Memorial University   \n",
       "3707  234076  374500    3745          University of Virginia-Main Campus   \n",
       "1598  167358  219900    2199                     Northeastern University   \n",
       "\n",
       "                 CITY         ZIP  ADM_RATE     UGDS  TUITIONFEE_IN  \\\n",
       "2978     Philadelphia       19103    0.0330    131.0         2675.0   \n",
       "3979         Stanford       94305    0.0473   7056.0        49617.0   \n",
       "1557        Cambridge       02138    0.0516   7532.0        48949.0   \n",
       "2302         New York  10023-6588    0.0592    486.0        43170.0   \n",
       "2123        Princeton  08544-0070    0.0641   5246.0        47140.0   \n",
       "...               ...         ...       ...      ...            ...   \n",
       "1211       Sioux City  51104-0263    0.2667    274.0        20440.0   \n",
       "3128          Reading       19611    0.2679    288.0        10095.0   \n",
       "691     Miami Gardens  33054-6199    0.2733   1173.0        15536.0   \n",
       "3707  Charlottesville  22903-2628    0.2735  16207.0        16853.0   \n",
       "1598           Boston  02115-5005    0.2744  13666.0        49497.0   \n",
       "\n",
       "        MD_EARN_WNE_P10  \n",
       "2978  PrivacySuppressed  \n",
       "3979              94000  \n",
       "1557              89700  \n",
       "2302              32800  \n",
       "2123              74700  \n",
       "...                 ...  \n",
       "1211              44400  \n",
       "3128              63800  \n",
       "691               27600  \n",
       "3707              61200  \n",
       "1598              67400  \n",
       "\n",
       "[80 rows x 10 columns]"
      ]
     },
     "execution_count": 41,
     "metadata": {},
     "output_type": "execute_result"
    }
   ],
   "source": [
    "# <7>\n",
    "# Find out the top 100 colleges that are hardest to get in (Top 100) from this new file\n",
    "top_100 = new_data.nsmallest(100,\"ADM_RATE\")\n",
    "# Eliminating Admission rate zero values\n",
    "top_100 = top_100[new_data.ADM_RATE!=0]\n",
    "top_100.dropna(inplace = True)\n",
    "top_100.head(100)"
   ]
  },
  {
   "cell_type": "markdown",
   "metadata": {},
   "source": [
    "#### I have got top 80 colleges"
   ]
  },
  {
   "cell_type": "code",
   "execution_count": 42,
   "metadata": {
    "colab": {},
    "colab_type": "code",
    "id": "UD32npV8wtIU"
   },
   "outputs": [
    {
     "data": {
      "text/plain": [
       "count       80.000000\n",
       "mean     40134.237500\n",
       "std      17865.622798\n",
       "min       1020.000000\n",
       "25%      19313.750000\n",
       "50%      50455.000000\n",
       "75%      52787.500000\n",
       "max      57208.000000\n",
       "Name: TUITIONFEE_IN, dtype: float64"
      ]
     },
     "execution_count": 42,
     "metadata": {},
     "output_type": "execute_result"
    }
   ],
   "source": [
    "# <8>\n",
    "# Display the summary statistics of the in-state tuitions of the top 100 colleges that are hardest to get in\n",
    "top_100.TUITIONFEE_IN.describe()"
   ]
  },
  {
   "cell_type": "code",
   "execution_count": 44,
   "metadata": {
    "colab": {},
    "colab_type": "code",
    "id": "4UwhZr7uwtIX"
   },
   "outputs": [
    {
     "data": {
      "image/png": "[encoded data removed]",
      "text/plain": [
       "<Figure size 720x720 with 1 Axes>"
      ]
     },
     "metadata": {
      "needs_background": "light"
     },
     "output_type": "display_data"
    }
   ],
   "source": [
    "# <9>\n",
    "# Display the histogram of the in-state tuitions of the top 100 colleges that are hardest to get in\n",
    "tuition = top_100.TUITIONFEE_IN\n",
    "fig, ax = plt.subplots(figsize=(10,10)) \n",
    "ax.hist(tuition, color='green')\n",
    "ax.set_title('Histogram presentation of in state tuition fee of top 100 hardest colleges', fontsize=14)\n",
    "ax.set_xlabel('TUITIONFEE_IN', fontsize=10)\n",
    "ax.set_ylabel('Frequency', fontsize=10)\n",
    "ax.grid(True)"
   ]
  },
  {
   "cell_type": "code",
   "execution_count": 45,
   "metadata": {
    "colab": {},
    "colab_type": "code",
    "id": "QCZzQu2QwtIZ"
   },
   "outputs": [
    {
     "data": {
      "text/plain": [
       "count        80\n",
       "unique       74\n",
       "top       69000\n",
       "freq          2\n",
       "Name: MD_EARN_WNE_P10, dtype: object"
      ]
     },
     "execution_count": 45,
     "metadata": {},
     "output_type": "execute_result"
    }
   ],
   "source": [
    "# <10>\n",
    "# Display the summary statistics of the earning potentials of the top 100 colleges that are hardest to get in\n",
    "earning_potential=top_100.MD_EARN_WNE_P10\n",
    "earning_potential.describe()"
   ]
  },
  {
   "cell_type": "code",
   "execution_count": 48,
   "metadata": {},
   "outputs": [
    {
     "data": {
      "text/html": [
       "<div>\n",
       "<style scoped>\n",
       "    .dataframe tbody tr th:only-of-type {\n",
       "        vertical-align: middle;\n",
       "    }\n",
       "\n",
       "    .dataframe tbody tr th {\n",
       "        vertical-align: top;\n",
       "    }\n",
       "\n",
       "    .dataframe thead th {\n",
       "        text-align: right;\n",
       "    }\n",
       "</style>\n",
       "<table border=\"1\" class=\"dataframe\">\n",
       "  <thead>\n",
       "    <tr style=\"text-align: right;\">\n",
       "      <th></th>\n",
       "      <th>UNITID</th>\n",
       "      <th>OPEID</th>\n",
       "      <th>OPEID6</th>\n",
       "      <th>INSTNM</th>\n",
       "      <th>CITY</th>\n",
       "      <th>ZIP</th>\n",
       "      <th>ADM_RATE</th>\n",
       "      <th>UGDS</th>\n",
       "      <th>TUITIONFEE_IN</th>\n",
       "      <th>MD_EARN_WNE_P10</th>\n",
       "    </tr>\n",
       "  </thead>\n",
       "  <tbody>\n",
       "    <tr>\n",
       "      <th>2978</th>\n",
       "      <td>211893</td>\n",
       "      <td>325100</td>\n",
       "      <td>3251</td>\n",
       "      <td>Curtis Institute of Music</td>\n",
       "      <td>Philadelphia</td>\n",
       "      <td>19103</td>\n",
       "      <td>0.0330</td>\n",
       "      <td>131.0</td>\n",
       "      <td>2675.0</td>\n",
       "      <td>PrivacySuppressed</td>\n",
       "    </tr>\n",
       "    <tr>\n",
       "      <th>3979</th>\n",
       "      <td>243744</td>\n",
       "      <td>130500</td>\n",
       "      <td>1305</td>\n",
       "      <td>Stanford University</td>\n",
       "      <td>Stanford</td>\n",
       "      <td>94305</td>\n",
       "      <td>0.0473</td>\n",
       "      <td>7056.0</td>\n",
       "      <td>49617.0</td>\n",
       "      <td>94000</td>\n",
       "    </tr>\n",
       "    <tr>\n",
       "      <th>1557</th>\n",
       "      <td>166027</td>\n",
       "      <td>215500</td>\n",
       "      <td>2155</td>\n",
       "      <td>Harvard University</td>\n",
       "      <td>Cambridge</td>\n",
       "      <td>02138</td>\n",
       "      <td>0.0516</td>\n",
       "      <td>7532.0</td>\n",
       "      <td>48949.0</td>\n",
       "      <td>89700</td>\n",
       "    </tr>\n",
       "    <tr>\n",
       "      <th>2302</th>\n",
       "      <td>192110</td>\n",
       "      <td>274200</td>\n",
       "      <td>2742</td>\n",
       "      <td>The Juilliard School</td>\n",
       "      <td>New York</td>\n",
       "      <td>10023-6588</td>\n",
       "      <td>0.0592</td>\n",
       "      <td>486.0</td>\n",
       "      <td>43170.0</td>\n",
       "      <td>32800</td>\n",
       "    </tr>\n",
       "    <tr>\n",
       "      <th>2123</th>\n",
       "      <td>186131</td>\n",
       "      <td>262700</td>\n",
       "      <td>2627</td>\n",
       "      <td>Princeton University</td>\n",
       "      <td>Princeton</td>\n",
       "      <td>08544-0070</td>\n",
       "      <td>0.0641</td>\n",
       "      <td>5246.0</td>\n",
       "      <td>47140.0</td>\n",
       "      <td>74700</td>\n",
       "    </tr>\n",
       "  </tbody>\n",
       "</table>\n",
       "</div>"
      ],
      "text/plain": [
       "      UNITID   OPEID  OPEID6                     INSTNM          CITY  \\\n",
       "2978  211893  325100    3251  Curtis Institute of Music  Philadelphia   \n",
       "3979  243744  130500    1305        Stanford University      Stanford   \n",
       "1557  166027  215500    2155         Harvard University     Cambridge   \n",
       "2302  192110  274200    2742       The Juilliard School      New York   \n",
       "2123  186131  262700    2627       Princeton University     Princeton   \n",
       "\n",
       "             ZIP  ADM_RATE    UGDS  TUITIONFEE_IN    MD_EARN_WNE_P10  \n",
       "2978       19103    0.0330   131.0         2675.0  PrivacySuppressed  \n",
       "3979       94305    0.0473  7056.0        49617.0              94000  \n",
       "1557       02138    0.0516  7532.0        48949.0              89700  \n",
       "2302  10023-6588    0.0592   486.0        43170.0              32800  \n",
       "2123  08544-0070    0.0641  5246.0        47140.0              74700  "
      ]
     },
     "execution_count": 48,
     "metadata": {},
     "output_type": "execute_result"
    }
   ],
   "source": [
    "top_100.head(5)"
   ]
  },
  {
   "cell_type": "code",
   "execution_count": 64,
   "metadata": {
    "colab": {},
    "colab_type": "code",
    "id": "anSvKwsewtId"
   },
   "outputs": [
    {
     "data": {
      "image/png": "[encoded data removed]",
      "text/plain": [
       "<Figure size 864x864 with 1 Axes>"
      ]
     },
     "metadata": {
      "needs_background": "light"
     },
     "output_type": "display_data"
    }
   ],
   "source": [
    "# <11>\n",
    "# Display the histogram of the earning potentials of the top 100 colleges that are hardest to get in\n",
    "#df=pd.DataFrame(earning_potential)\n",
    "top_100['MD_EARN_WNE_P10'].replace({'PrivacySuppressed':None}, inplace=True)\n",
    "top_100.MD_EARN_WNE_P10.dropna(inplace=True)\n",
    "\n",
    "earnings=top_100.MD_EARN_WNE_P10.astype(int)\n",
    "fig, ax=plt.subplots(figsize=(12,12)) \n",
    "ax.hist(earnings, color='orange')\n",
    "ax.set_title('Histogram presentation of Earning potential of top 100 hardest colleges', fontsize=14)\n",
    "ax.set_xlabel('Earning Potential', fontsize=12)\n",
    "ax.set_ylabel('Frequency', fontsize=12)\n",
    "ax.grid(True)"
   ]
  },
  {
   "cell_type": "code",
   "execution_count": 65,
   "metadata": {
    "colab": {},
    "colab_type": "code",
    "id": "59_ol471wtIg"
   },
   "outputs": [
    {
     "data": {
      "text/plain": [
       "<matplotlib.axes._subplots.AxesSubplot at 0x20e7cd96cc8>"
      ]
     },
     "execution_count": 65,
     "metadata": {},
     "output_type": "execute_result"
    },
    {
     "data": {
      "image/png": "[encoded data removed]",
      "text/plain": [
       "<Figure size 1008x1008 with 1 Axes>"
      ]
     },
     "metadata": {
      "needs_background": "light"
     },
     "output_type": "display_data"
    }
   ],
   "source": [
    "# <12>\n",
    "# Make a scatter plot of the in-state tuition and the median graduate earnings of \n",
    "# the top 100 colleges that are hardest to get in\n",
    "# using Pandas\n",
    "top_100['MD_EARN_WNE_P10'].replace({'PrivacySuppressed':None}, inplace=True)\n",
    "top_100.MD_EARN_WNE_P10 = top_100.MD_EARN_WNE_P10.astype(float)\n",
    "fig, ax = plt.subplots(figsize=(14,14))\n",
    "ax.set_title(\"Tution vs Earning\")\n",
    "ax.grid(True)\n",
    "\n",
    "top_100.plot.scatter(x='TUITIONFEE_IN',y='MD_EARN_WNE_P10',ax=ax)"
   ]
  },
  {
   "cell_type": "code",
   "execution_count": 66,
   "metadata": {
    "colab": {},
    "colab_type": "code",
    "id": "FKgN5G-rwtIi"
   },
   "outputs": [
    {
     "name": "stderr",
     "output_type": "stream",
     "text": [
      "C:\\Anaconda3\\lib\\site-packages\\pandas\\core\\ops\\__init__.py:1115: FutureWarning: elementwise comparison failed; returning scalar instead, but in the future will perform elementwise comparison\n",
      "  result = method(y)\n"
     ]
    },
    {
     "data": {
      "image/png": "[encoded data removed]",
      "text/plain": [
       "<Figure size 1008x1008 with 1 Axes>"
      ]
     },
     "metadata": {
      "needs_background": "light"
     },
     "output_type": "display_data"
    }
   ],
   "source": [
    "# <13>\n",
    "# Make a scatter plot of the in-state tuition and the median graduate earnings of \n",
    "# the top 100 colleges that are hardest to get in\n",
    "# using Matplotlib\n",
    "top_100.MD_EARN_WNE_P10 = top_100.MD_EARN_WNE_P10[top_100.MD_EARN_WNE_P10!='PrivacySuppressed']\n",
    "fig, ax = plt.subplots(figsize=(14,14)) \n",
    "ax.scatter(top_100.TUITIONFEE_IN, top_100.MD_EARN_WNE_P10)\n",
    "ax.set_title('In-State Tuition vs Median Graduate', fontsize=14)\n",
    "ax.set_xlabel('In-Tution Fee', fontsize=14)\n",
    "ax.set_ylabel('Median Graduate Earning', fontsize=14)\n",
    "ax.grid(True)"
   ]
  },
  {
   "cell_type": "code",
   "execution_count": 67,
   "metadata": {
    "colab": {},
    "colab_type": "code",
    "id": "lQkOKC54wtIk"
   },
   "outputs": [
    {
     "data": {
      "text/plain": [
       "<matplotlib.axes._subplots.AxesSubplot at 0x20e7cb8a688>"
      ]
     },
     "execution_count": 67,
     "metadata": {},
     "output_type": "execute_result"
    },
    {
     "data": {
      "image/png": "[encoded data removed]",
      "text/plain": [
       "<Figure size 432x288 with 1 Axes>"
      ]
     },
     "metadata": {
      "needs_background": "light"
     },
     "output_type": "display_data"
    }
   ],
   "source": [
    "# <14>\n",
    "# Make a scatter plot of the in-state tuition and the median graduate earnings of \n",
    "# the top 100 colleges that are hardest to get in\n",
    "# using Seaborn\n",
    "sns.regplot(x=top_100[\"TUITIONFEE_IN\"], y=top_100[\"MD_EARN_WNE_P10\"])"
   ]
  },
  {
   "cell_type": "code",
   "execution_count": 68,
   "metadata": {
    "colab": {},
    "colab_type": "code",
    "id": "dm-Hy1-jwtIm"
   },
   "outputs": [],
   "source": [
    "# <15> \n",
    "# Your observation/conclusion of the scatter plot (use the following Markdown cell)"
   ]
  },
  {
   "cell_type": "markdown",
   "metadata": {
    "colab_type": "text",
    "id": "ksJFdaPdwtIp"
   },
   "source": [
    " Based on my observation of the scatter plot, I feel that there is a positve correlation between the two variables since as there is a increase in the tuition fee there is a likely increase in the median graduate earnings\n",
    "\n"
   ]
  },
  {
   "cell_type": "code",
   "execution_count": 0,
   "metadata": {
    "colab": {},
    "colab_type": "code",
    "id": "y-QOPE6UwtIq"
   },
   "outputs": [],
   "source": []
  }
 ],
 "metadata": {
  "colab": {
   "include_colab_link": true,
   "name": "Assignment-04.ipynb",
   "provenance": []
  },
  "kernelspec": {
   "display_name": "Python 3",
   "language": "python",
   "name": "python3"
  },
  "language_info": {
   "codemirror_mode": {
    "name": "ipython",
    "version": 3
   },
   "file_extension": ".py",
   "mimetype": "text/x-python",
   "name": "python",
   "nbconvert_exporter": "python",
   "pygments_lexer": "ipython3",
   "version": "3.7.5"
  }
 },
 "nbformat": 4,
 "nbformat_minor": 1
}
