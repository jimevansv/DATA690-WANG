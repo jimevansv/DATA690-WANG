{
 "cells": [
  {
   "cell_type": "markdown",
   "metadata": {},
   "source": [
    "#### Problem 1:\n",
    "Create a program that asks the user to enter their name and their age. Print out a message addressed to them that tells them the year that they will turn 100 years old."
   ]
  },
  {
   "cell_type": "code",
   "execution_count": 3,
   "metadata": {},
   "outputs": [
    {
     "name": "stdout",
     "output_type": "stream",
     "text": [
      "Enter your name:John\n",
      "Enter your age:25\n",
      "John would turn 100 in the year 2095\n"
     ]
    }
   ],
   "source": [
    "name=input('Enter your name:')\n",
    "age=int(input('Enter your age:'))\n",
    "## Calculating how many years it would take to get to 100 years\n",
    "years=100-age\n",
    "## Adding that value to the present year 2020\n",
    "year=2020+years\n",
    "print(name, 'would turn 100 in the year', year)"
   ]
  },
  {
   "cell_type": "markdown",
   "metadata": {},
   "source": [
    "#### Problem 2:\n",
    "Ask the user for a number. Depending on whether the number is even or odd, print out an appropriate message to the user. Hint: how does an even / odd number react differently when divided by 2?"
   ]
  },
  {
   "cell_type": "code",
   "execution_count": 47,
   "metadata": {},
   "outputs": [
    {
     "name": "stdout",
     "output_type": "stream",
     "text": [
      "Enter a number:10\n",
      "Entered number is even\n"
     ]
    }
   ],
   "source": [
    "number=int(input('Enter a number:'))\n",
    "## Checking if the number is divisible by 2, if divisible - even, else odd\n",
    "if number%2==0:\n",
    "    print('Entered number is even')\n",
    "else: print('Entered number is odd')"
   ]
  },
  {
   "cell_type": "markdown",
   "metadata": {},
   "source": [
    "#### Problem 3\n",
    "\n",
    "Take a list, say for example this one:\n",
    "\n",
    "  a = [1, 1, 2, 3, 5, 8, 13, 21, 34, 55, 89]\n",
    "and write a program that prints out all the elements of the list that are less than 5."
   ]
  },
  {
   "cell_type": "code",
   "execution_count": 48,
   "metadata": {},
   "outputs": [
    {
     "name": "stdout",
     "output_type": "stream",
     "text": [
      "Numbers less than 5 are:  [1, 1, 2, 3]\n"
     ]
    }
   ],
   "source": [
    "a = [1, 1, 2, 3, 5, 8, 13, 21, 34, 55, 89]\n",
    "b=[]\n",
    "## Taking an empty list and appending all the values less than 5 to the empty list and printing it out at the end\n",
    "for i in a:\n",
    "    if i<5: b.append(i)\n",
    "    else: continue\n",
    "print('Numbers less than 5 are: ', b)"
   ]
  },
  {
   "cell_type": "markdown",
   "metadata": {},
   "source": [
    "#### Problem 4\n",
    "\n",
    "Create a program that asks the user for a number and then prints out a list of all the divisors of that number. (If you don’t know what a divisor is, it is a number that divides evenly into another number. For example, 13 is a divisor of 26 because 26 / 13 has no remainder.)"
   ]
  },
  {
   "cell_type": "code",
   "execution_count": 49,
   "metadata": {},
   "outputs": [
    {
     "name": "stdout",
     "output_type": "stream",
     "text": [
      "Enter a number to find the number of divisors: 36\n",
      "The divisors of the number are:  [2, 3, 4, 6, 9, 12, 18]\n"
     ]
    }
   ],
   "source": [
    "num=int(input('Enter a number to find the number of divisors: '))\n",
    "l=[]\n",
    "## Taking empty list and appending all the divisors onto empty list\n",
    "## Loop starts checking from 1, till the number-1 since a number has 1 and itself as divisors\n",
    "for i in range(2, num):\n",
    "    if num%i==0:\n",
    "        l.append(i)\n",
    "print('The divisors of the number are: ', l)"
   ]
  },
  {
   "cell_type": "markdown",
   "metadata": {},
   "source": [
    "#### Problem 5\n",
    "\n",
    "Take two lists, say for example these two:\n",
    "\n",
    "  a = [1, 1, 2, 3, 5, 8, 13, 21, 34, 55, 89]\n",
    "  b = [1, 2, 3, 4, 5, 6, 7, 8, 9, 10, 11, 12, 13]\n",
    "and write a program that returns a list that contains only the elements that are common between the lists (without duplicates). Make sure your program works on two lists of different sizes."
   ]
  },
  {
   "cell_type": "code",
   "execution_count": 50,
   "metadata": {},
   "outputs": [
    {
     "name": "stdout",
     "output_type": "stream",
     "text": [
      "Unique Elements in both the lists are:  [1, 2, 3, 4, 5, 6, 7, 8, 9, 10, 11, 12, 13, 21, 89, 34, 55]\n"
     ]
    }
   ],
   "source": [
    "a=[1, 1, 2, 3, 5, 8, 13, 21, 34, 55, 89]\n",
    "b=[1, 2, 3, 4, 5, 6, 7, 8, 9, 10, 11, 12, 13]\n",
    "## Typecasting the list into set and using the union function to determine the unique numbers in both the lists\n",
    "## and converting back the resulted set into list and printing it out\n",
    "c=list(set(a).union(set(b)))\n",
    "print(\"Unique Elements in both the lists are: \", c)"
   ]
  },
  {
   "cell_type": "markdown",
   "metadata": {},
   "source": [
    "#### Problem 6\n",
    "\n",
    "Ask the user for a string and print out whether this string is a palindrome or not. (A palindrome is a string that reads the same forwards and backwards.)"
   ]
  },
  {
   "cell_type": "code",
   "execution_count": 46,
   "metadata": {},
   "outputs": [
    {
     "name": "stdout",
     "output_type": "stream",
     "text": [
      "Enter a string to know if it is a palindrome: q\n",
      "Entered String is a palindrome\n"
     ]
    }
   ],
   "source": [
    "string=input('Enter a string to know if it is a palindrome: ')\n",
    "count=0\n",
    "## Checking number from last and first and stopping when it reached the centre.\n",
    "for i in range(int(len(string)/2)):\n",
    "    if string[i]==string[len(string)-i-1]:\n",
    "        continue\n",
    "    else:\n",
    "        count=1\n",
    "        break\n",
    "if count==0:print('Entered String is a palindrome')\n",
    "else:print('Not a palindrome')"
   ]
  },
  {
   "cell_type": "code",
   "execution_count": null,
   "metadata": {},
   "outputs": [],
   "source": []
  }
 ],
 "metadata": {
  "kernelspec": {
   "display_name": "Python 3",
   "language": "python",
   "name": "python3"
  },
  "language_info": {
   "codemirror_mode": {
    "name": "ipython",
    "version": 3
   },
   "file_extension": ".py",
   "mimetype": "text/x-python",
   "name": "python",
   "nbconvert_exporter": "python",
   "pygments_lexer": "ipython3",
   "version": "3.7.5"
  }
 },
 "nbformat": 4,
 "nbformat_minor": 2
}
