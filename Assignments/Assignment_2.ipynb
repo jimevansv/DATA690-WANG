{
 "cells": [
  {
   "cell_type": "markdown",
   "metadata": {},
   "source": [
    "#### Importing the package numpy"
   ]
  },
  {
   "cell_type": "code",
   "execution_count": 19,
   "metadata": {},
   "outputs": [],
   "source": [
    "import numpy as np"
   ]
  },
  {
   "cell_type": "code",
   "execution_count": 21,
   "metadata": {},
   "outputs": [
    {
     "name": "stdout",
     "output_type": "stream",
     "text": [
      "***********************\n",
      "* 0 5 5 1 1 8 4 7 7 0 *\n",
      "* 8 3 7 7 3 1 7 6 5 3 *\n",
      "* 8 0 1 3 3 7 6 0 0 2 *\n",
      "* 7 8 8 3 5 7 0 3 7 6 *\n",
      "* 3 8 1 8 8 4 3 4 6 2 *\n",
      "* 3 6 5 7 7 3 6 3 6 3 *\n",
      "* 5 6 4 6 8 4 5 2 4 0 *\n",
      "* 8 7 4 8 2 4 4 5 7 6 *\n",
      "* 1 3 1 2 4 6 0 0 7 5 *\n",
      "* 7 0 0 5 3 8 6 1 2 2 *\n",
      "***********************\n"
     ]
    }
   ],
   "source": [
    "# Printing the first line of asterisks\n",
    "print('***********************')\n",
    "\n",
    "for i in range(0,10):\n",
    "    # Generating 10 random integers in between 0 and 9\n",
    "    rand=np.random.randint(low=0, high=9, size=10)\n",
    "    # printing them with a space in between\n",
    "    print('*',*rand,'*')\n",
    "# Printing the last line of asterisks\n",
    "print('***********************')"
   ]
  },
  {
   "cell_type": "code",
   "execution_count": null,
   "metadata": {},
   "outputs": [],
   "source": []
  }
 ],
 "metadata": {
  "kernelspec": {
   "display_name": "Python 3",
   "language": "python",
   "name": "python3"
  },
  "language_info": {
   "codemirror_mode": {
    "name": "ipython",
    "version": 3
   },
   "file_extension": ".py",
   "mimetype": "text/x-python",
   "name": "python",
   "nbconvert_exporter": "python",
   "pygments_lexer": "ipython3",
   "version": "3.7.5"
  }
 },
 "nbformat": 4,
 "nbformat_minor": 2
}
