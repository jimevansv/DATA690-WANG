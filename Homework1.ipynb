{
 "cells": [
  {
   "cell_type": "markdown",
   "metadata": {},
   "source": [
    "#### Prompting a user to enter 10 numbers."
   ]
  },
  {
   "cell_type": "code",
   "execution_count": 10,
   "metadata": {},
   "outputs": [
    {
     "name": "stdout",
     "output_type": "stream",
     "text": [
      "Enter 10 numbers: 20\n",
      "Enter 10 numbers: 20\n",
      "Enter 10 numbers: 20\n",
      "Enter 10 numbers: 202\n",
      "Enter 10 numbers: 20\n",
      "Enter 10 numbers: 20\n",
      "Enter 10 numbers: 20\n",
      "Enter 10 numbers: 202\n",
      "Enter 10 numbers: 20\n",
      "Enter 10 numbers: 20\n"
     ]
    }
   ],
   "source": [
    "count=0\n",
    "numbers=[]\n",
    "while(True):\n",
    "    num=input(\"Enter 10 numbers: \")\n",
    "\n",
    "    try:\n",
    "        test=float(num)\n",
    "        count=count+1\n",
    "        numbers.append(test)\n",
    "    except ValueError:\n",
    "        print(\"Enter only a number, the entered number is a String\")\n",
    "        continue\n",
    "    if(count==10):\n",
    "        break\n"
   ]
  },
  {
   "cell_type": "markdown",
   "metadata": {},
   "source": [
    "#### These are the entered number are:"
   ]
  },
  {
   "cell_type": "code",
   "execution_count": 11,
   "metadata": {},
   "outputs": [
    {
     "name": "stdout",
     "output_type": "stream",
     "text": [
      "[20.0, 20.0, 20.0, 202.0, 20.0, 20.0, 20.0, 202.0, 20.0, 20.0]\n"
     ]
    }
   ],
   "source": [
    "print(numbers)"
   ]
  },
  {
   "cell_type": "markdown",
   "metadata": {},
   "source": [
    "Calculate the following statistics from the 10 numbers entered:\n",
    "- Minimum\n",
    "- Maximum\n",
    "- Range \n",
    "- Mean\n",
    "- Variance\n",
    "- Standard Deviation"
   ]
  },
  {
   "cell_type": "code",
   "execution_count": 12,
   "metadata": {},
   "outputs": [],
   "source": [
    "import numpy as np"
   ]
  },
  {
   "cell_type": "code",
   "execution_count": 13,
   "metadata": {},
   "outputs": [
    {
     "name": "stdout",
     "output_type": "stream",
     "text": [
      "Minimum in all the entered numbers is:  20.0\n"
     ]
    }
   ],
   "source": [
    "print(\"Minimum in all the entered numbers is: \", min(numbers))"
   ]
  },
  {
   "cell_type": "code",
   "execution_count": 14,
   "metadata": {},
   "outputs": [
    {
     "name": "stdout",
     "output_type": "stream",
     "text": [
      "Maximum in all the entered numbers is:  202.0\n"
     ]
    }
   ],
   "source": [
    "print(\"Maximum in all the entered numbers is: \", max(numbers))"
   ]
  },
  {
   "cell_type": "code",
   "execution_count": 15,
   "metadata": {},
   "outputs": [
    {
     "name": "stdout",
     "output_type": "stream",
     "text": [
      "Range of all the entered numbers is:  182.0\n"
     ]
    }
   ],
   "source": [
    "range_of_numbers=max(numbers)-min(numbers)\n",
    "print(\"Range of all the entered numbers is: \", \"%0.1f\" % range_of_numbers)"
   ]
  },
  {
   "cell_type": "code",
   "execution_count": 16,
   "metadata": {},
   "outputs": [
    {
     "name": "stdout",
     "output_type": "stream",
     "text": [
      "Mean of all the entered numbers is:  56.4\n"
     ]
    }
   ],
   "source": [
    "print(\"Mean of all the entered numbers is: \", \"%0.1f\" % np.mean(numbers))"
   ]
  },
  {
   "cell_type": "code",
   "execution_count": 17,
   "metadata": {},
   "outputs": [
    {
     "name": "stdout",
     "output_type": "stream",
     "text": [
      "Variance of all the entered numbers is:  5299.8\n"
     ]
    }
   ],
   "source": [
    "print(\"Variance of all the entered numbers is: \", \"%0.1f\" % np.var(numbers))"
   ]
  },
  {
   "cell_type": "code",
   "execution_count": 18,
   "metadata": {},
   "outputs": [
    {
     "name": "stdout",
     "output_type": "stream",
     "text": [
      "Standard Deviation of all the entered numbers is:  72.8\n"
     ]
    }
   ],
   "source": [
    "print(\"Standard Deviation of all the entered numbers is: \", \"%0.1f\" % np.std(numbers))"
   ]
  },
  {
   "cell_type": "code",
   "execution_count": null,
   "metadata": {},
   "outputs": [],
   "source": []
  },
  {
   "cell_type": "code",
   "execution_count": null,
   "metadata": {},
   "outputs": [],
   "source": []
  },
  {
   "cell_type": "code",
   "execution_count": null,
   "metadata": {},
   "outputs": [],
   "source": []
  }
 ],
 "metadata": {
  "kernelspec": {
   "display_name": "Python 3",
   "language": "python",
   "name": "python3"
  },
  "language_info": {
   "codemirror_mode": {
    "name": "ipython",
    "version": 3
   },
   "file_extension": ".py",
   "mimetype": "text/x-python",
   "name": "python",
   "nbconvert_exporter": "python",
   "pygments_lexer": "ipython3",
   "version": "3.6.9"
  }
 },
 "nbformat": 4,
 "nbformat_minor": 2
}
